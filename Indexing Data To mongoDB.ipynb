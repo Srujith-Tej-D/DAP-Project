{
 "cells": [
  {
   "cell_type": "markdown",
   "id": "27ef7ede-a165-4bdd-8585-841f89c17221",
   "metadata": {},
   "source": [
    "# Importing the required libraries"
   ]
  },
  {
   "cell_type": "code",
   "execution_count": 1,
   "id": "5860fb34-9434-4ac1-a606-5c2270b760c6",
   "metadata": {},
   "outputs": [],
   "source": [
    "import pymongo\n",
    "import csv\n",
    "import json\n",
    "import pandas as pd"
   ]
  },
  {
   "cell_type": "code",
   "execution_count": 2,
   "id": "336d2f5a-d56c-402e-ac57-d49b15e99aa1",
   "metadata": {},
   "outputs": [],
   "source": [
    "client = pymongo.MongoClient(\"mongodb://localhost:27017/\")\n",
    "db = client[\"mydatabase\"]"
   ]
  },
  {
   "cell_type": "code",
   "execution_count": 3,
   "id": "15d8b879-5107-4cfa-89a1-9d66c777478b",
   "metadata": {},
   "outputs": [],
   "source": [
    "collection_names = [\"Traffic_Crash\", \"speed_camera_violations\"]"
   ]
  },
  {
   "cell_type": "code",
   "execution_count": 4,
   "id": "7ef3e513-acee-4538-8751-02ef95488318",
   "metadata": {},
   "outputs": [],
   "source": [
    "traffic_crashes_path = r\"C:\\Users\\sruzoom\\Dap Data sets\\Traffic_Crashes_-_Crashes.json\"\n",
    "\n",
    "speed_camera_path = r\"C:\\Users\\sruzoom\\Dap Data sets\\Speed_Camera_Violations.csv\"\n",
    "\n",
    "file_paths = [ traffic_crashes_path, speed_camera_path ]"
   ]
  },
  {
   "cell_type": "code",
   "execution_count": 9,
   "id": "623b4dd7-2b30-4af3-bbdb-40126832ee05",
   "metadata": {},
   "outputs": [],
   "source": [
    "with open(file_paths[0], 'r') as json_file:\n",
    "    json_data = json.load(json_file)\n",
    "    db[collection_names[0]].insert_many(json_data)"
   ]
  },
  {
   "cell_type": "code",
   "execution_count": 10,
   "id": "386e1cc7-56d9-4566-bb0c-4bfa2d22a172",
   "metadata": {},
   "outputs": [],
   "source": [
    "with open(file_paths[1], 'r') as csv_file:\n",
    "    reader = csv.DictReader(csv_file)\n",
    "    csv_data = list(reader)\n",
    "    db[collection_names[1]].insert_many(csv_data)"
   ]
  },
  {
   "cell_type": "markdown",
   "id": "671bb94d-6c74-4b15-8986-8c00524a5e81",
   "metadata": {},
   "source": [
    "# Checking the documents count in MongoDB"
   ]
  },
  {
   "cell_type": "code",
   "execution_count": 5,
   "id": "2d49e63a-60ed-40b5-ab4e-431b73f7ce4d",
   "metadata": {},
   "outputs": [
    {
     "name": "stdout",
     "output_type": "stream",
     "text": [
      "Total documents in Traffic_Crash: 821716\n",
      "Total documents in speed_camera_violations: 378235\n"
     ]
    }
   ],
   "source": [
    "for collection_name in collection_names:\n",
    "    count = db[collection_name].count_documents({})\n",
    "    print(f\"Total documents in {collection_name}: {count}\")\n",
    "    "
   ]
  },
  {
   "cell_type": "markdown",
   "id": "d39da2b4-ad79-499f-9187-d4e272fbc6d4",
   "metadata": {},
   "source": [
    "# Checking the document Count in actual files"
   ]
  },
  {
   "cell_type": "code",
   "execution_count": 13,
   "id": "327817a9-c63f-4cad-8ce7-3adfa042ad6d",
   "metadata": {},
   "outputs": [
    {
     "name": "stdout",
     "output_type": "stream",
     "text": [
      "Total documents in Traffic_Crash: 821716\n",
      "Total documents in speed_camera_violations: 378235\n"
     ]
    }
   ],
   "source": [
    "with open(traffic_crashes_path, 'r') as file:\n",
    "    json_data = json.load(file)\n",
    "total_records_json = len(json_data)\n",
    "print(f\"Total documents in Traffic_Crash: {total_records_json}\")\n",
    "\n",
    "\n",
    "df_speed_camera = pd.read_csv(speed_camera_path)\n",
    "total_records_speed_camera = len(df_speed_camera)\n",
    "print(f\"Total documents in speed_camera_violations: {total_records_speed_camera}\")"
   ]
  },
  {
   "cell_type": "markdown",
   "id": "db845a7c-e026-4495-86e6-ff31446ac430",
   "metadata": {},
   "source": [
    "# Sorting with Date"
   ]
  },
  {
   "cell_type": "code",
   "execution_count": 17,
   "id": "e54e37d6-6cc3-4fcb-8108-5f479792f70a",
   "metadata": {},
   "outputs": [],
   "source": [
    "\n",
    "collection_details = {\n",
    "    \"Traffic_Crash\": \"CRASH_DATE\",\n",
    "    \"speed_camera_violations\": \"VIOLATION_DATE\"\n",
    "}\n",
    "\n",
    "\n",
    "for collection_name, date_field in collection_details.items():\n",
    "    # Create an index on the date field for efficient sorting and querying\n",
    "    db[collection_name].create_index([(date_field, pymongo.ASCENDING)])\n"
   ]
  }
 ],
 "metadata": {
  "kernelspec": {
   "display_name": "Python 3 (ipykernel)",
   "language": "python",
   "name": "python3"
  },
  "language_info": {
   "codemirror_mode": {
    "name": "ipython",
    "version": 3
   },
   "file_extension": ".py",
   "mimetype": "text/x-python",
   "name": "python",
   "nbconvert_exporter": "python",
   "pygments_lexer": "ipython3",
   "version": "3.11.5"
  }
 },
 "nbformat": 4,
 "nbformat_minor": 5
}

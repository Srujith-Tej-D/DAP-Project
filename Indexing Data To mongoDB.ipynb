{
 "cells": [
  {
   "cell_type": "markdown",
   "id": "27ef7ede-a165-4bdd-8585-841f89c17221",
   "metadata": {},
   "source": [
    "# Importing the required libraries"
   ]
  },
  {
   "cell_type": "code",
   "execution_count": 1,
   "id": "5860fb34-9434-4ac1-a606-5c2270b760c6",
   "metadata": {},
   "outputs": [],
   "source": [
    "import pymongo\n",
    "import csv\n",
    "import json\n",
    "import pandas as pd"
   ]
  },
  {
   "cell_type": "code",
   "execution_count": 2,
   "id": "336d2f5a-d56c-402e-ac57-d49b15e99aa1",
   "metadata": {},
   "outputs": [],
   "source": [
    "client = pymongo.MongoClient(\"mongodb://localhost:27017/\")\n",
    "db = client[\"mydatabase\"]"
   ]
  },
  {
   "cell_type": "code",
   "execution_count": 3,
   "id": "15d8b879-5107-4cfa-89a1-9d66c777478b",
   "metadata": {},
   "outputs": [],
   "source": [
    "collection_names = [\"Traffic_Crash\", \"speed_camera_violations\"]"
   ]
  },
  {
   "cell_type": "code",
   "execution_count": 4,
   "id": "7ef3e513-acee-4538-8751-02ef95488318",
   "metadata": {},
   "outputs": [],
   "source": [
    "traffic_crashes_path = r\"C:\\Users\\sruzoom\\Dap Data sets\\Traffic_Crashes_-_Crashes.json\"\n",
    "\n",
    "speed_camera_path = r\"C:\\Users\\sruzoom\\Dap Data sets\\Speed_Camera_Violations.csv\"\n",
    "\n",
    "file_paths = [ traffic_crashes_path, speed_camera_path ]"
   ]
  },
  {
   "cell_type": "code",
   "execution_count": 9,
   "id": "623b4dd7-2b30-4af3-bbdb-40126832ee05",
   "metadata": {},
   "outputs": [],
   "source": [
    "with open(file_paths[0], 'r') as json_file:\n",
    "    json_data = json.load(json_file)\n",
    "    db[collection_names[0]].insert_many(json_data)"
   ]
  },
  {
   "cell_type": "code",
   "execution_count": 10,
   "id": "386e1cc7-56d9-4566-bb0c-4bfa2d22a172",
   "metadata": {},
   "outputs": [],
   "source": [
    "with open(file_paths[1], 'r') as csv_file:\n",
    "    reader = csv.DictReader(csv_file)\n",
    "    csv_data = list(reader)\n",
    "    db[collection_names[1]].insert_many(csv_data)"
   ]
  },
  {
   "cell_type": "markdown",
   "id": "671bb94d-6c74-4b15-8986-8c00524a5e81",
   "metadata": {},
   "source": [
    "# Checking the documents count in MongoDB"
   ]
  },
  {
   "cell_type": "code",
   "execution_count": 5,
   "id": "2d49e63a-60ed-40b5-ab4e-431b73f7ce4d",
   "metadata": {},
   "outputs": [
    {
     "name": "stdout",
     "output_type": "stream",
     "text": [
      "Total documents in Traffic_Crash: 821716\n",
      "Total documents in speed_camera_violations: 378235\n"
     ]
    }
   ],
   "source": [
    "for collection_name in collection_names:\n",
    "    count = db[collection_name].count_documents({})\n",
    "    print(f\"Total documents in {collection_name}: {count}\")\n",
    "    "
   ]
  },
  {
   "cell_type": "markdown",
   "id": "d39da2b4-ad79-499f-9187-d4e272fbc6d4",
   "metadata": {},
   "source": [
    "# Checking the document Count in actual files"
   ]
  },
  {
   "cell_type": "code",
   "execution_count": 13,
   "id": "327817a9-c63f-4cad-8ce7-3adfa042ad6d",
   "metadata": {},
   "outputs": [
    {
     "name": "stdout",
     "output_type": "stream",
     "text": [
      "Total documents in Traffic_Crash: 821716\n",
      "Total documents in speed_camera_violations: 378235\n"
     ]
    }
   ],
   "source": [
    "with open(traffic_crashes_path, 'r') as file:\n",
    "    json_data = json.load(file)\n",
    "total_records_json = len(json_data)\n",
    "print(f\"Total documents in Traffic_Crash: {total_records_json}\")\n",
    "\n",
    "\n",
    "df_speed_camera = pd.read_csv(speed_camera_path)\n",
    "total_records_speed_camera = len(df_speed_camera)\n",
    "print(f\"Total documents in speed_camera_violations: {total_records_speed_camera}\")"
   ]
  },
  {
   "cell_type": "markdown",
   "id": "db845a7c-e026-4495-86e6-ff31446ac430",
   "metadata": {},
   "source": [
    "# Sorting with Date"
   ]
  },
  {
   "cell_type": "code",
   "execution_count": 16,
   "id": "e54e37d6-6cc3-4fcb-8108-5f479792f70a",
   "metadata": {},
   "outputs": [
    {
     "name": "stdout",
     "output_type": "stream",
     "text": [
      "First 5 sorted documents in Traffic_Crash:\n",
      "{'_id': ObjectId('661d0f06145d4918c9956676'), 'CRASH_RECORD_ID': '1f810d065f794af2aa0a100a3e130fc4ce6443501a3900d72d80c08650351288ae835572600439502f1be7bbcf764294d1ae277e3310ea4930fb639494cb56cf', 'CRASH_DATE_EST_I': None, 'CRASH_DATE': '01/01/2016 01:00:00 AM', 'POSTED_SPEED_LIMIT': 30, 'TRAFFIC_CONTROL_DEVICE': 'UNKNOWN', 'DEVICE_CONDITION': 'UNKNOWN', 'WEATHER_CONDITION': 'UNKNOWN', 'LIGHTING_CONDITION': 'UNKNOWN', 'FIRST_CRASH_TYPE': 'PARKED MOTOR VEHICLE', 'TRAFFICWAY_TYPE': 'PARKING LOT', 'LANE_CNT': 1.0, 'ALIGNMENT': 'STRAIGHT AND LEVEL', 'ROADWAY_SURFACE_COND': 'UNKNOWN', 'ROAD_DEFECT': 'UNKNOWN', 'REPORT_TYPE': 'NOT ON SCENE (DESK REPORT)', 'CRASH_TYPE': 'NO INJURY / DRIVE AWAY', 'INTERSECTION_RELATED_I': None, 'NOT_RIGHT_OF_WAY_I': None, 'HIT_AND_RUN_I': None, 'DAMAGE': 'OVER $1,500', 'DATE_POLICE_NOTIFIED': '01/03/2016 08:00:00 PM', 'PRIM_CONTRIBUTORY_CAUSE': 'UNABLE TO DETERMINE', 'SEC_CONTRIBUTORY_CAUSE': 'NOT APPLICABLE', 'STREET_NO': 5615, 'STREET_DIRECTION': 'N', 'STREET_NAME': 'CUMBERLAND AVE', 'BEAT_OF_OCCURRENCE': 1614.0, 'PHOTOS_TAKEN_I': None, 'STATEMENTS_TAKEN_I': None, 'DOORING_I': None, 'WORK_ZONE_I': None, 'WORK_ZONE_TYPE': None, 'WORKERS_PRESENT_I': None, 'NUM_UNITS': 2, 'MOST_SEVERE_INJURY': 'NO INDICATION OF INJURY', 'INJURIES_TOTAL': 0.0, 'INJURIES_FATAL': 0.0, 'INJURIES_INCAPACITATING': 0.0, 'INJURIES_NON_INCAPACITATING': 0.0, 'INJURIES_REPORTED_NOT_EVIDENT': 0.0, 'INJURIES_NO_INDICATION': 1.0, 'INJURIES_UNKNOWN': 0.0, 'CRASH_HOUR': 1, 'CRASH_DAY_OF_WEEK': 6, 'CRASH_MONTH': 1, 'LATITUDE': 41.981428164, 'LONGITUDE': -87.836434302, 'LOCATION': 'POINT (-87.836434302093 41.981428164177)'}\n",
      "{'_id': ObjectId('661d0f07145d4918c996364a'), 'CRASH_RECORD_ID': '30ab207fe950bfadcd896c51e2d03a23d1165869a2849a05b82cac6559b257f203e167aa312a82392fdc99d9139098ecb3ff5d5b5ff836d579ded0538f282f74', 'CRASH_DATE_EST_I': None, 'CRASH_DATE': '01/01/2016 01:00:00 AM', 'POSTED_SPEED_LIMIT': 30, 'TRAFFIC_CONTROL_DEVICE': 'TRAFFIC SIGNAL', 'DEVICE_CONDITION': 'FUNCTIONING PROPERLY', 'WEATHER_CONDITION': 'CLEAR', 'LIGHTING_CONDITION': 'DARKNESS', 'FIRST_CRASH_TYPE': 'REAR END', 'TRAFFICWAY_TYPE': 'ONE-WAY', 'LANE_CNT': 2.0, 'ALIGNMENT': 'STRAIGHT AND LEVEL', 'ROADWAY_SURFACE_COND': 'DRY', 'ROAD_DEFECT': 'NO DEFECTS', 'REPORT_TYPE': 'NOT ON SCENE (DESK REPORT)', 'CRASH_TYPE': 'NO INJURY / DRIVE AWAY', 'INTERSECTION_RELATED_I': None, 'NOT_RIGHT_OF_WAY_I': None, 'HIT_AND_RUN_I': 'Y', 'DAMAGE': '$500 OR LESS', 'DATE_POLICE_NOTIFIED': '01/01/2016 03:35:00 PM', 'PRIM_CONTRIBUTORY_CAUSE': 'UNABLE TO DETERMINE', 'SEC_CONTRIBUTORY_CAUSE': 'UNABLE TO DETERMINE', 'STREET_NO': 142, 'STREET_DIRECTION': 'E', 'STREET_NAME': 'CHESTNUT ST', 'BEAT_OF_OCCURRENCE': 1833.0, 'PHOTOS_TAKEN_I': None, 'STATEMENTS_TAKEN_I': None, 'DOORING_I': None, 'WORK_ZONE_I': None, 'WORK_ZONE_TYPE': None, 'WORKERS_PRESENT_I': None, 'NUM_UNITS': 2, 'MOST_SEVERE_INJURY': 'NO INDICATION OF INJURY', 'INJURIES_TOTAL': 0.0, 'INJURIES_FATAL': 0.0, 'INJURIES_INCAPACITATING': 0.0, 'INJURIES_NON_INCAPACITATING': 0.0, 'INJURIES_REPORTED_NOT_EVIDENT': 0.0, 'INJURIES_NO_INDICATION': 2.0, 'INJURIES_UNKNOWN': 0.0, 'CRASH_HOUR': 1, 'CRASH_DAY_OF_WEEK': 6, 'CRASH_MONTH': 1, 'LATITUDE': 41.898494249, 'LONGITUDE': -87.624180176, 'LOCATION': 'POINT (-87.624180175655 41.898494249105)'}\n",
      "{'_id': ObjectId('661d0f0d145d4918c99f5b5e'), 'CRASH_RECORD_ID': 'f2fdacd44557dffb9219db743bc4525bc7343aaa229c0fa57a2b636e6de2471780883308cbfb87f639aeee0c2fd0c78d341f2398bd2235e97f75e6d504a974ae', 'CRASH_DATE_EST_I': 'Y', 'CRASH_DATE': '01/01/2016 01:00:00 AM', 'POSTED_SPEED_LIMIT': 30, 'TRAFFIC_CONTROL_DEVICE': 'NO CONTROLS', 'DEVICE_CONDITION': 'NO CONTROLS', 'WEATHER_CONDITION': 'CLEAR', 'LIGHTING_CONDITION': 'UNKNOWN', 'FIRST_CRASH_TYPE': 'PARKED MOTOR VEHICLE', 'TRAFFICWAY_TYPE': 'ONE-WAY', 'LANE_CNT': 1.0, 'ALIGNMENT': 'STRAIGHT AND LEVEL', 'ROADWAY_SURFACE_COND': 'DRY', 'ROAD_DEFECT': 'NO DEFECTS', 'REPORT_TYPE': 'NOT ON SCENE (DESK REPORT)', 'CRASH_TYPE': 'NO INJURY / DRIVE AWAY', 'INTERSECTION_RELATED_I': None, 'NOT_RIGHT_OF_WAY_I': None, 'HIT_AND_RUN_I': 'Y', 'DAMAGE': 'OVER $1,500', 'DATE_POLICE_NOTIFIED': '01/01/2016 01:30:00 PM', 'PRIM_CONTRIBUTORY_CAUSE': 'UNABLE TO DETERMINE', 'SEC_CONTRIBUTORY_CAUSE': 'UNABLE TO DETERMINE', 'STREET_NO': 3138, 'STREET_DIRECTION': 'W', 'STREET_NAME': 'MONROE ST', 'BEAT_OF_OCCURRENCE': 1124.0, 'PHOTOS_TAKEN_I': None, 'STATEMENTS_TAKEN_I': None, 'DOORING_I': None, 'WORK_ZONE_I': None, 'WORK_ZONE_TYPE': None, 'WORKERS_PRESENT_I': None, 'NUM_UNITS': 2, 'MOST_SEVERE_INJURY': 'NO INDICATION OF INJURY', 'INJURIES_TOTAL': 0.0, 'INJURIES_FATAL': 0.0, 'INJURIES_INCAPACITATING': 0.0, 'INJURIES_NON_INCAPACITATING': 0.0, 'INJURIES_REPORTED_NOT_EVIDENT': 0.0, 'INJURIES_NO_INDICATION': 1.0, 'INJURIES_UNKNOWN': 0.0, 'CRASH_HOUR': 1, 'CRASH_DAY_OF_WEEK': 6, 'CRASH_MONTH': 1, 'LATITUDE': 41.879777288, 'LONGITUDE': -87.704473567, 'LOCATION': 'POINT (-87.704473567355 41.879777288201)'}\n",
      "{'_id': ObjectId('661d0f07145d4918c9960eb5'), 'CRASH_RECORD_ID': '2d618b9297fdae46ccc44beb7138eaa492f4546564476549aad5f5329d269e66aebcf4880546e1c31920af521470e2094d27599a900d1616a14a95ba932696e9', 'CRASH_DATE_EST_I': None, 'CRASH_DATE': '01/01/2016 01:03:00 AM', 'POSTED_SPEED_LIMIT': 30, 'TRAFFIC_CONTROL_DEVICE': 'TRAFFIC SIGNAL', 'DEVICE_CONDITION': 'UNKNOWN', 'WEATHER_CONDITION': 'CLEAR', 'LIGHTING_CONDITION': 'DARKNESS, LIGHTED ROAD', 'FIRST_CRASH_TYPE': 'REAR END', 'TRAFFICWAY_TYPE': 'NOT DIVIDED', 'LANE_CNT': 2.0, 'ALIGNMENT': 'STRAIGHT AND LEVEL', 'ROADWAY_SURFACE_COND': 'UNKNOWN', 'ROAD_DEFECT': 'UNKNOWN', 'REPORT_TYPE': 'NOT ON SCENE (DESK REPORT)', 'CRASH_TYPE': 'INJURY AND / OR TOW DUE TO CRASH', 'INTERSECTION_RELATED_I': 'Y', 'NOT_RIGHT_OF_WAY_I': None, 'HIT_AND_RUN_I': None, 'DAMAGE': 'OVER $1,500', 'DATE_POLICE_NOTIFIED': '01/01/2016 02:35:00 AM', 'PRIM_CONTRIBUTORY_CAUSE': 'UNABLE TO DETERMINE', 'SEC_CONTRIBUTORY_CAUSE': 'NOT APPLICABLE', 'STREET_NO': 530, 'STREET_DIRECTION': 'N', 'STREET_NAME': 'FAIRBANKS CT', 'BEAT_OF_OCCURRENCE': 1834.0, 'PHOTOS_TAKEN_I': None, 'STATEMENTS_TAKEN_I': None, 'DOORING_I': None, 'WORK_ZONE_I': None, 'WORK_ZONE_TYPE': None, 'WORKERS_PRESENT_I': None, 'NUM_UNITS': 2, 'MOST_SEVERE_INJURY': 'NONINCAPACITATING INJURY', 'INJURIES_TOTAL': 1.0, 'INJURIES_FATAL': 0.0, 'INJURIES_INCAPACITATING': 0.0, 'INJURIES_NON_INCAPACITATING': 1.0, 'INJURIES_REPORTED_NOT_EVIDENT': 0.0, 'INJURIES_NO_INDICATION': 2.0, 'INJURIES_UNKNOWN': 0.0, 'CRASH_HOUR': 1, 'CRASH_DAY_OF_WEEK': 6, 'CRASH_MONTH': 1, 'LATITUDE': 41.891913374, 'LONGITUDE': -87.620382813, 'LOCATION': 'POINT (-87.620382813048 41.891913373934)'}\n",
      "{'_id': ObjectId('661d0f08145d4918c9979bb0'), 'CRASH_RECORD_ID': '4e3a5affd8b1652eb65ab2dddbeee9ef7d9f0189d49d6c5d580bef6900fb748656f9e9d6419189fcbcafffe9ecf6f09b43a8cceb92e669d5a2761a05a07db0b0', 'CRASH_DATE_EST_I': None, 'CRASH_DATE': '01/01/2016 01:18:00 AM', 'POSTED_SPEED_LIMIT': 30, 'TRAFFIC_CONTROL_DEVICE': 'NO CONTROLS', 'DEVICE_CONDITION': 'NO CONTROLS', 'WEATHER_CONDITION': 'SNOW', 'LIGHTING_CONDITION': 'DARKNESS, LIGHTED ROAD', 'FIRST_CRASH_TYPE': 'PARKED MOTOR VEHICLE', 'TRAFFICWAY_TYPE': 'NOT DIVIDED', 'LANE_CNT': 2.0, 'ALIGNMENT': 'STRAIGHT AND LEVEL', 'ROADWAY_SURFACE_COND': 'DRY', 'ROAD_DEFECT': 'NO DEFECTS', 'REPORT_TYPE': 'ON SCENE', 'CRASH_TYPE': 'INJURY AND / OR TOW DUE TO CRASH', 'INTERSECTION_RELATED_I': None, 'NOT_RIGHT_OF_WAY_I': None, 'HIT_AND_RUN_I': None, 'DAMAGE': 'OVER $1,500', 'DATE_POLICE_NOTIFIED': '01/01/2016 01:18:00 AM', 'PRIM_CONTRIBUTORY_CAUSE': 'UNDER THE INFLUENCE OF ALCOHOL/DRUGS (USE WHEN ARREST IS EFFECTED)', 'SEC_CONTRIBUTORY_CAUSE': 'DRIVING ON WRONG SIDE/WRONG WAY', 'STREET_NO': 5113, 'STREET_DIRECTION': 'W', 'STREET_NAME': 'DIVERSEY AVE', 'BEAT_OF_OCCURRENCE': 2521.0, 'PHOTOS_TAKEN_I': None, 'STATEMENTS_TAKEN_I': None, 'DOORING_I': None, 'WORK_ZONE_I': None, 'WORK_ZONE_TYPE': None, 'WORKERS_PRESENT_I': None, 'NUM_UNITS': 3, 'MOST_SEVERE_INJURY': 'REPORTED, NOT EVIDENT', 'INJURIES_TOTAL': 1.0, 'INJURIES_FATAL': 0.0, 'INJURIES_INCAPACITATING': 0.0, 'INJURIES_NON_INCAPACITATING': 0.0, 'INJURIES_REPORTED_NOT_EVIDENT': 1.0, 'INJURIES_NO_INDICATION': 0.0, 'INJURIES_UNKNOWN': 0.0, 'CRASH_HOUR': 1, 'CRASH_DAY_OF_WEEK': 6, 'CRASH_MONTH': 1, 'LATITUDE': 41.931315949, 'LONGITUDE': -87.754538819, 'LOCATION': 'POINT (-87.754538818571 41.931315948853)'}\n",
      "First 5 sorted documents in speed_camera_violations:\n",
      "{'_id': ObjectId('661d0f47145d4918c99ff85f'), 'ADDRESS': '1111 N HUMBOLDT', 'CAMERA ID': 'CHI010', 'VIOLATION DATE': '04/10/2015', 'VIOLATIONS': '67', 'X COORDINATE': '', 'Y COORDINATE': '', 'LATITUDE': '', 'LONGITUDE': '', 'LOCATION': ''}\n",
      "{'_id': ObjectId('661d0f47145d4918c99ff860'), 'ADDRESS': '1111 N HUMBOLDT', 'CAMERA ID': 'CHI010', 'VIOLATION DATE': '04/25/2015', 'VIOLATIONS': '71', 'X COORDINATE': '', 'Y COORDINATE': '', 'LATITUDE': '', 'LONGITUDE': '', 'LOCATION': ''}\n",
      "{'_id': ObjectId('661d0f47145d4918c99ff861'), 'ADDRESS': '1111 N HUMBOLDT', 'CAMERA ID': 'CHI010', 'VIOLATION DATE': '04/14/2015', 'VIOLATIONS': '38', 'X COORDINATE': '', 'Y COORDINATE': '', 'LATITUDE': '', 'LONGITUDE': '', 'LOCATION': ''}\n",
      "{'_id': ObjectId('661d0f47145d4918c99ff862'), 'ADDRESS': '1111 N HUMBOLDT', 'CAMERA ID': 'CHI010', 'VIOLATION DATE': '04/16/2015', 'VIOLATIONS': '55', 'X COORDINATE': '', 'Y COORDINATE': '', 'LATITUDE': '', 'LONGITUDE': '', 'LOCATION': ''}\n",
      "{'_id': ObjectId('661d0f47145d4918c99ff863'), 'ADDRESS': '1111 N HUMBOLDT', 'CAMERA ID': 'CHI010', 'VIOLATION DATE': '04/24/2015', 'VIOLATIONS': '54', 'X COORDINATE': '', 'Y COORDINATE': '', 'LATITUDE': '', 'LONGITUDE': '', 'LOCATION': ''}\n"
     ]
    }
   ],
   "source": [
    "# Dictionary to hold collection names and their respective date fields\n",
    "collection_details = {\n",
    "    \"Traffic_Crash\": \"CRASH_DATE\",\n",
    "    \"speed_camera_violations\": \"VIOLATION_DATE\"\n",
    "}\n",
    "\n",
    "# Iterate over the dictionary to process each collection\n",
    "for collection_name, date_field in collection_details.items():\n",
    "    # Create an index on the date field for efficient sorting and querying\n",
    "    db[collection_name].create_index([(date_field, pymongo.ASCENDING)])\n",
    "\n",
    "    # Example to retrieve and display the first 5 documents sorted by date\n",
    "    sorted_docs = db[collection_name].find().sort(date_field, pymongo.ASCENDING).limit(5)\n",
    "    print(f\"First 5 sorted documents in {collection_name}:\")\n",
    "    for doc in sorted_docs:\n",
    "        print(doc)"
   ]
  }
 ],
 "metadata": {
  "kernelspec": {
   "display_name": "Python 3 (ipykernel)",
   "language": "python",
   "name": "python3"
  },
  "language_info": {
   "codemirror_mode": {
    "name": "ipython",
    "version": 3
   },
   "file_extension": ".py",
   "mimetype": "text/x-python",
   "name": "python",
   "nbconvert_exporter": "python",
   "pygments_lexer": "ipython3",
   "version": "3.11.5"
  }
 },
 "nbformat": 4,
 "nbformat_minor": 5
}

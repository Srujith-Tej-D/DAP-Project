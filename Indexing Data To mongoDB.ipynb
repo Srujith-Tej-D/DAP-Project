{
 "cells": [
  {
   "cell_type": "code",
   "execution_count": 1,
   "id": "5860fb34-9434-4ac1-a606-5c2270b760c6",
   "metadata": {},
   "outputs": [],
   "source": [
    "import pymongo\n",
    "import csv\n",
    "import json"
   ]
  },
  {
   "cell_type": "code",
   "execution_count": 7,
   "id": "336d2f5a-d56c-402e-ac57-d49b15e99aa1",
   "metadata": {},
   "outputs": [],
   "source": [
    "client = pymongo.MongoClient(\"mongodb://localhost:27017/\")\n",
    "db = client[\"mydatabase\"]"
   ]
  },
  {
   "cell_type": "code",
   "execution_count": 8,
   "id": "15d8b879-5107-4cfa-89a1-9d66c777478b",
   "metadata": {},
   "outputs": [],
   "source": [
    "collection_names = [\"Traffic_Crash\", \"speed_camera_violations\"]"
   ]
  },
  {
   "cell_type": "code",
   "execution_count": 9,
   "id": "7ef3e513-acee-4538-8751-02ef95488318",
   "metadata": {},
   "outputs": [],
   "source": [
    "file_paths = [r\"C:\\Users\\sruzoom\\Dap Data sets\\Traffic_Crashes_-_Crashes.json\", r\"C:\\Users\\sruzoom\\Dap Data sets\\Speed_Camera_Violations.csv\"]"
   ]
  },
  {
   "cell_type": "code",
   "execution_count": 10,
   "id": "623b4dd7-2b30-4af3-bbdb-40126832ee05",
   "metadata": {},
   "outputs": [],
   "source": [
    "with open(file_paths[0], 'r') as json_file:\n",
    "    json_data = json.load(json_file)\n",
    "    db[collection_names[0]].insert_many(json_data)"
   ]
  },
  {
   "cell_type": "code",
   "execution_count": 11,
   "id": "386e1cc7-56d9-4566-bb0c-4bfa2d22a172",
   "metadata": {},
   "outputs": [],
   "source": [
    "with open(file_paths[1], 'r') as csv_file:\n",
    "    reader = csv.DictReader(csv_file)\n",
    "    csv_data = list(reader)\n",
    "    db[collection_names[1]].insert_many(csv_data)"
   ]
  }
 ],
 "metadata": {
  "kernelspec": {
   "display_name": "Python 3 (ipykernel)",
   "language": "python",
   "name": "python3"
  },
  "language_info": {
   "codemirror_mode": {
    "name": "ipython",
    "version": 3
   },
   "file_extension": ".py",
   "mimetype": "text/x-python",
   "name": "python",
   "nbconvert_exporter": "python",
   "pygments_lexer": "ipython3",
   "version": "3.11.5"
  }
 },
 "nbformat": 4,
 "nbformat_minor": 5
}
